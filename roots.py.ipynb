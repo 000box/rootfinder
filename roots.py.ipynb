{
 "cells": [
  {
   "cell_type": "code",
   "execution_count": 17,
   "metadata": {},
   "outputs": [
    {
     "name": "stdout",
     "output_type": "stream",
     "text": [
      "['آخر', 'اخر']\n",
      "['آخراً', 'اخر']\n",
      "['آداب', 'ادب']\n",
      "['آلة', 'اول']\n",
      "['آلى', 'الو']\n",
      "['آلي', 'اول']\n",
      "['آلية', 'اول']\n",
      "['آمن', 'امن']\n",
      "['آمنة', 'امن']\n",
      "['آني', 'اون']\n",
      "['أبجدي', '']\n"
     ]
    },
    {
     "ename": "IndexError",
     "evalue": "list index out of range",
     "output_type": "error",
     "traceback": [
      "\u001b[0;31m---------------------------------------------------------------------------\u001b[0m",
      "\u001b[0;31mIndexError\u001b[0m                                Traceback (most recent call last)",
      "\u001b[0;32m<ipython-input-17-b1b90b92fc15>\u001b[0m in \u001b[0;36m<module>\u001b[0;34m()\u001b[0m\n\u001b[1;32m     16\u001b[0m             {'word': row[0],\n\u001b[1;32m     17\u001b[0m             \u001b[0;34m'rootsize'\u001b[0m\u001b[0;34m:\u001b[0m \u001b[0mlen\u001b[0m\u001b[0;34m(\u001b[0m\u001b[0mrow\u001b[0m\u001b[0;34m[\u001b[0m\u001b[0;36m1\u001b[0m\u001b[0;34m]\u001b[0m\u001b[0;34m)\u001b[0m\u001b[0;34m,\u001b[0m\u001b[0;34m\u001b[0m\u001b[0m\n\u001b[0;32m---> 18\u001b[0;31m             \u001b[0;34m'root1'\u001b[0m\u001b[0;34m:\u001b[0m \u001b[0mrootlist\u001b[0m\u001b[0;34m[\u001b[0m\u001b[0;36m0\u001b[0m\u001b[0;34m]\u001b[0m\u001b[0;34m,\u001b[0m\u001b[0;34m\u001b[0m\u001b[0m\n\u001b[0m\u001b[1;32m     19\u001b[0m             \u001b[0;34m'root2'\u001b[0m\u001b[0;34m:\u001b[0m \u001b[0mrootlist\u001b[0m\u001b[0;34m[\u001b[0m\u001b[0;36m1\u001b[0m\u001b[0;34m]\u001b[0m\u001b[0;34m,\u001b[0m\u001b[0;34m\u001b[0m\u001b[0m\n\u001b[1;32m     20\u001b[0m             \u001b[0;34m'root3'\u001b[0m\u001b[0;34m:\u001b[0m \u001b[0mrootlist\u001b[0m\u001b[0;34m[\u001b[0m\u001b[0;36m2\u001b[0m\u001b[0;34m]\u001b[0m\u001b[0;34m,\u001b[0m\u001b[0;34m\u001b[0m\u001b[0m\n",
      "\u001b[0;31mIndexError\u001b[0m: list index out of range"
     ]
    }
   ],
   "source": [
    "import csv\n",
    "from pprint import pprint\n",
    "\n",
    "datain = []\n",
    "\n",
    "with open('roots.csv') as csvfile:\n",
    "    readcsv = csv.reader(csvfile, delimiter=',')\n",
    "    next(readcsv)\n",
    "    for row in readcsv:\n",
    "        rootlist = list(row[1])\n",
    "        if(len(rootlist) == 3):\n",
    "            rootlist += [\"\"]\n",
    "        print(row)\n",
    "            \n",
    "        datain += [\n",
    "            {'word': row[0],\n",
    "            'rootsize': len(row[1]),\n",
    "            'root1': rootlist[0],\n",
    "            'root2': rootlist[1],\n",
    "            'root3': rootlist[2],\n",
    "            'root4': rootlist[3]\n",
    "            }\n",
    "        ]\n",
    "\n",
    "pprint(datain[0:10])"
   ]
  },
  {
   "cell_type": "code",
   "execution_count": null,
   "metadata": {},
   "outputs": [],
   "source": []
  }
 ],
 "metadata": {
  "kernelspec": {
   "display_name": "Python 3",
   "language": "python",
   "name": "python3"
  },
  "language_info": {
   "codemirror_mode": {
    "name": "ipython",
    "version": 3
   },
   "file_extension": ".py",
   "mimetype": "text/x-python",
   "name": "python",
   "nbconvert_exporter": "python",
   "pygments_lexer": "ipython3",
   "version": "3.6.5"
  }
 },
 "nbformat": 4,
 "nbformat_minor": 2
}
